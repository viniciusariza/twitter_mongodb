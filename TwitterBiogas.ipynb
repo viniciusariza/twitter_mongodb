{
 "cells": [
  {
   "cell_type": "code",
   "execution_count": 7,
   "id": "d51c2d42",
   "metadata": {},
   "outputs": [],
   "source": [
    "consumer_key = \"NdH4XEoaqpktQfISyUmzv6rPh\"\n",
    "consumer_secret = \"US3QHiOTfolWDm7V9Vda3PYrnjOVHr889bobdvVVI7trwY6mXB\"\n",
    "access_token = \"1483169335040479239-dywZHmR70hp5zluxsrLnux5SW7YXFG\"\n",
    "access_token_secret = \"mIT8f3JcN8HH99tethiqtFn9aOpi2soT15kh1rJs3LqnR\""
   ]
  },
  {
   "cell_type": "code",
   "execution_count": 8,
   "id": "a82301f7",
   "metadata": {},
   "outputs": [],
   "source": [
    "from datetime import datetime\n",
    "import json\n",
    "from TwitterSearch import *"
   ]
  },
  {
   "cell_type": "code",
   "execution_count": 9,
   "id": "b2615339",
   "metadata": {},
   "outputs": [
    {
     "name": "stdout",
     "output_type": "stream",
     "text": [
      "Error 403: ('Forbidden: The request is understood, but', 'it has been refused or access is not allowed')\n"
     ]
    }
   ],
   "source": [
    "try:\n",
    "    ts = TwitterSearch(\n",
    "        consumer_key = consumer_key,\n",
    "        consumer_secret = consumer_secret,\n",
    "        access_token = access_token,\n",
    "        access_token_secret = access_token_secret\n",
    "    )\n",
    "    \n",
    "    tso = TwitterSearchOrder()\n",
    "    tso.set_keywords(['biogas','biometano'], or_operator = True)\n",
    "    tso.set_language('pt')\n",
    "    \n",
    "    for tweet in ts.search_tweets_iterable(tso):\n",
    "    \n",
    "        print('created_at: ', tweet['created_at'], 'User_id: ', tweet['id_str'], 'Tweet: ', tweet['text'])\n",
    "        \n",
    "        created_at = tweet['created_at']\n",
    "        user_id =  tweet['id_str']\n",
    "        texto = tweet['text']\n",
    "        \n",
    "        with open(\"tweet.json\", \"a+\") as output:\n",
    "            data = {\"created_at\": created_at,\n",
    "                    \"user_id\": user_id,\n",
    "                    \"tweet\":texto\n",
    "                   }\n",
    "            output.write(\"{}\\n\".format(json.dumps(data)))\n",
    "            \n",
    "except TwitterSearchException as e:\n",
    "    print(e)"
   ]
  }
 ],
 "metadata": {
  "kernelspec": {
   "display_name": "Python 3 (ipykernel)",
   "language": "python",
   "name": "python3"
  },
  "language_info": {
   "codemirror_mode": {
    "name": "ipython",
    "version": 3
   },
   "file_extension": ".py",
   "mimetype": "text/x-python",
   "name": "python",
   "nbconvert_exporter": "python",
   "pygments_lexer": "ipython3",
   "version": "3.9.7"
  }
 },
 "nbformat": 4,
 "nbformat_minor": 5
}
